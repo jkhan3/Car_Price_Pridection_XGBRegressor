{
 "cells": [
  {
   "cell_type": "code",
   "execution_count": 1,
   "metadata": {},
   "outputs": [],
   "source": [
    "import pandas as pd\n",
    "import matplotlib.pyplot as plt \n",
    "import numpy as np\n",
    "import seaborn as sn\n",
    "\n",
    "import warnings\n",
    "warnings.filterwarnings('ignore')"
   ]
  },
  {
   "cell_type": "code",
   "execution_count": 2,
   "metadata": {},
   "outputs": [
    {
     "data": {
      "text/html": [
       "<div>\n",
       "<style scoped>\n",
       "    .dataframe tbody tr th:only-of-type {\n",
       "        vertical-align: middle;\n",
       "    }\n",
       "\n",
       "    .dataframe tbody tr th {\n",
       "        vertical-align: top;\n",
       "    }\n",
       "\n",
       "    .dataframe thead th {\n",
       "        text-align: right;\n",
       "    }\n",
       "</style>\n",
       "<table border=\"1\" class=\"dataframe\">\n",
       "  <thead>\n",
       "    <tr style=\"text-align: right;\">\n",
       "      <th></th>\n",
       "      <th>Unnamed: 0</th>\n",
       "      <th>Brand</th>\n",
       "      <th>Model</th>\n",
       "      <th>Year</th>\n",
       "      <th>Fuel</th>\n",
       "      <th>KM driven</th>\n",
       "      <th>Price</th>\n",
       "    </tr>\n",
       "  </thead>\n",
       "  <tbody>\n",
       "    <tr>\n",
       "      <th>0</th>\n",
       "      <td>0</td>\n",
       "      <td>KIA</td>\n",
       "      <td>SELTOS</td>\n",
       "      <td>2020</td>\n",
       "      <td>Petrol</td>\n",
       "      <td>5,822 km</td>\n",
       "      <td>₹11,33,599</td>\n",
       "    </tr>\n",
       "    <tr>\n",
       "      <th>1</th>\n",
       "      <td>1</td>\n",
       "      <td>Maruti</td>\n",
       "      <td>Swift</td>\n",
       "      <td>2012</td>\n",
       "      <td>Diesel</td>\n",
       "      <td>1,18,117 km</td>\n",
       "      <td>₹3,43,199</td>\n",
       "    </tr>\n",
       "    <tr>\n",
       "      <th>2</th>\n",
       "      <td>2</td>\n",
       "      <td>Hyundai</td>\n",
       "      <td>Verna</td>\n",
       "      <td>2013</td>\n",
       "      <td>Diesel</td>\n",
       "      <td>53,517 km</td>\n",
       "      <td>₹4,82,299</td>\n",
       "    </tr>\n",
       "    <tr>\n",
       "      <th>3</th>\n",
       "      <td>3</td>\n",
       "      <td>Maruti</td>\n",
       "      <td>Swift</td>\n",
       "      <td>2013</td>\n",
       "      <td>Diesel</td>\n",
       "      <td>49,944 km</td>\n",
       "      <td>₹3,54,299</td>\n",
       "    </tr>\n",
       "    <tr>\n",
       "      <th>4</th>\n",
       "      <td>4</td>\n",
       "      <td>Maruti</td>\n",
       "      <td>Swift</td>\n",
       "      <td>2016</td>\n",
       "      <td>Diesel</td>\n",
       "      <td>1,06,080 km</td>\n",
       "      <td>₹4,49,299</td>\n",
       "    </tr>\n",
       "    <tr>\n",
       "      <th>...</th>\n",
       "      <td>...</td>\n",
       "      <td>...</td>\n",
       "      <td>...</td>\n",
       "      <td>...</td>\n",
       "      <td>...</td>\n",
       "      <td>...</td>\n",
       "      <td>...</td>\n",
       "    </tr>\n",
       "    <tr>\n",
       "      <th>5151</th>\n",
       "      <td>5151</td>\n",
       "      <td>Maruti</td>\n",
       "      <td>Alto</td>\n",
       "      <td>2020</td>\n",
       "      <td>Petrol</td>\n",
       "      <td>4,179 km</td>\n",
       "      <td>₹3,30,799</td>\n",
       "    </tr>\n",
       "    <tr>\n",
       "      <th>5152</th>\n",
       "      <td>5152</td>\n",
       "      <td>Maruti</td>\n",
       "      <td>Alto</td>\n",
       "      <td>2020</td>\n",
       "      <td>Petrol</td>\n",
       "      <td>38,222 km</td>\n",
       "      <td>₹3,61,899</td>\n",
       "    </tr>\n",
       "    <tr>\n",
       "      <th>5153</th>\n",
       "      <td>5153</td>\n",
       "      <td>Maruti</td>\n",
       "      <td>Alto</td>\n",
       "      <td>2018</td>\n",
       "      <td>Petrol</td>\n",
       "      <td>24,853 km</td>\n",
       "      <td>₹2,96,799</td>\n",
       "    </tr>\n",
       "    <tr>\n",
       "      <th>5154</th>\n",
       "      <td>5154</td>\n",
       "      <td>Maruti</td>\n",
       "      <td>Alto</td>\n",
       "      <td>2018</td>\n",
       "      <td>Petrol</td>\n",
       "      <td>50,463 km</td>\n",
       "      <td>₹3,32,599</td>\n",
       "    </tr>\n",
       "    <tr>\n",
       "      <th>5155</th>\n",
       "      <td>5155</td>\n",
       "      <td>Maruti</td>\n",
       "      <td>Celerio</td>\n",
       "      <td>2018</td>\n",
       "      <td>Petrol</td>\n",
       "      <td>41,352 km</td>\n",
       "      <td>₹4,40,199</td>\n",
       "    </tr>\n",
       "  </tbody>\n",
       "</table>\n",
       "<p>5156 rows × 7 columns</p>\n",
       "</div>"
      ],
      "text/plain": [
       "      Unnamed: 0    Brand    Model  Year    Fuel    KM driven       Price\n",
       "0              0      KIA   SELTOS  2020  Petrol     5,822 km  ₹11,33,599\n",
       "1              1   Maruti    Swift  2012  Diesel  1,18,117 km   ₹3,43,199\n",
       "2              2  Hyundai    Verna  2013  Diesel    53,517 km   ₹4,82,299\n",
       "3              3   Maruti    Swift  2013  Diesel    49,944 km   ₹3,54,299\n",
       "4              4   Maruti    Swift  2016  Diesel  1,06,080 km   ₹4,49,299\n",
       "...          ...      ...      ...   ...     ...          ...         ...\n",
       "5151        5151   Maruti     Alto  2020  Petrol     4,179 km   ₹3,30,799\n",
       "5152        5152   Maruti     Alto  2020  Petrol    38,222 km   ₹3,61,899\n",
       "5153        5153   Maruti     Alto  2018  Petrol    24,853 km   ₹2,96,799\n",
       "5154        5154   Maruti     Alto  2018  Petrol    50,463 km   ₹3,32,599\n",
       "5155        5155   Maruti  Celerio  2018  Petrol    41,352 km   ₹4,40,199\n",
       "\n",
       "[5156 rows x 7 columns]"
      ]
     },
     "execution_count": 2,
     "metadata": {},
     "output_type": "execute_result"
    }
   ],
   "source": [
    "df=pd.read_csv(\"car_price.csv\")\n",
    "df"
   ]
  },
  {
   "cell_type": "code",
   "execution_count": 3,
   "metadata": {},
   "outputs": [
    {
     "data": {
      "text/plain": [
       "(5156, 7)"
      ]
     },
     "execution_count": 3,
     "metadata": {},
     "output_type": "execute_result"
    }
   ],
   "source": [
    "df.shape"
   ]
  },
  {
   "cell_type": "markdown",
   "metadata": {},
   "source": [
    "There are 5156 rows and 7 columns"
   ]
  },
  {
   "cell_type": "code",
   "execution_count": 4,
   "metadata": {},
   "outputs": [
    {
     "data": {
      "text/plain": [
       "Unnamed: 0     int64\n",
       "Brand         object\n",
       "Model         object\n",
       "Year           int64\n",
       "Fuel          object\n",
       "KM driven     object\n",
       "Price         object\n",
       "dtype: object"
      ]
     },
     "execution_count": 4,
     "metadata": {},
     "output_type": "execute_result"
    }
   ],
   "source": [
    "df.dtypes"
   ]
  },
  {
   "cell_type": "markdown",
   "metadata": {},
   "source": [
    "All the values are in numerical values and the categorical values are present in it."
   ]
  },
  {
   "cell_type": "code",
   "execution_count": 5,
   "metadata": {},
   "outputs": [
    {
     "data": {
      "text/plain": [
       "Unnamed: 0    0\n",
       "Brand         0\n",
       "Model         0\n",
       "Year          0\n",
       "Fuel          0\n",
       "KM driven     0\n",
       "Price         0\n",
       "dtype: int64"
      ]
     },
     "execution_count": 5,
     "metadata": {},
     "output_type": "execute_result"
    }
   ],
   "source": [
    "df.isnull().sum()"
   ]
  },
  {
   "cell_type": "markdown",
   "metadata": {},
   "source": [
    "There are no null values. as Unnamed: 0 is an identifier column we are dropping the column"
   ]
  },
  {
   "cell_type": "code",
   "execution_count": 6,
   "metadata": {},
   "outputs": [],
   "source": [
    "df.drop([\"Unnamed: 0\"],axis=1,inplace=True)"
   ]
  },
  {
   "cell_type": "code",
   "execution_count": 7,
   "metadata": {},
   "outputs": [
    {
     "data": {
      "text/html": [
       "<div>\n",
       "<style scoped>\n",
       "    .dataframe tbody tr th:only-of-type {\n",
       "        vertical-align: middle;\n",
       "    }\n",
       "\n",
       "    .dataframe tbody tr th {\n",
       "        vertical-align: top;\n",
       "    }\n",
       "\n",
       "    .dataframe thead th {\n",
       "        text-align: right;\n",
       "    }\n",
       "</style>\n",
       "<table border=\"1\" class=\"dataframe\">\n",
       "  <thead>\n",
       "    <tr style=\"text-align: right;\">\n",
       "      <th></th>\n",
       "      <th>Brand</th>\n",
       "      <th>Model</th>\n",
       "      <th>Year</th>\n",
       "      <th>Fuel</th>\n",
       "      <th>KM driven</th>\n",
       "      <th>Price</th>\n",
       "    </tr>\n",
       "  </thead>\n",
       "  <tbody>\n",
       "    <tr>\n",
       "      <th>0</th>\n",
       "      <td>KIA</td>\n",
       "      <td>SELTOS</td>\n",
       "      <td>2020</td>\n",
       "      <td>Petrol</td>\n",
       "      <td>5,822 km</td>\n",
       "      <td>₹11,33,599</td>\n",
       "    </tr>\n",
       "    <tr>\n",
       "      <th>1</th>\n",
       "      <td>Maruti</td>\n",
       "      <td>Swift</td>\n",
       "      <td>2012</td>\n",
       "      <td>Diesel</td>\n",
       "      <td>1,18,117 km</td>\n",
       "      <td>₹3,43,199</td>\n",
       "    </tr>\n",
       "    <tr>\n",
       "      <th>2</th>\n",
       "      <td>Hyundai</td>\n",
       "      <td>Verna</td>\n",
       "      <td>2013</td>\n",
       "      <td>Diesel</td>\n",
       "      <td>53,517 km</td>\n",
       "      <td>₹4,82,299</td>\n",
       "    </tr>\n",
       "    <tr>\n",
       "      <th>3</th>\n",
       "      <td>Maruti</td>\n",
       "      <td>Swift</td>\n",
       "      <td>2013</td>\n",
       "      <td>Diesel</td>\n",
       "      <td>49,944 km</td>\n",
       "      <td>₹3,54,299</td>\n",
       "    </tr>\n",
       "    <tr>\n",
       "      <th>4</th>\n",
       "      <td>Maruti</td>\n",
       "      <td>Swift</td>\n",
       "      <td>2016</td>\n",
       "      <td>Diesel</td>\n",
       "      <td>1,06,080 km</td>\n",
       "      <td>₹4,49,299</td>\n",
       "    </tr>\n",
       "    <tr>\n",
       "      <th>...</th>\n",
       "      <td>...</td>\n",
       "      <td>...</td>\n",
       "      <td>...</td>\n",
       "      <td>...</td>\n",
       "      <td>...</td>\n",
       "      <td>...</td>\n",
       "    </tr>\n",
       "    <tr>\n",
       "      <th>5151</th>\n",
       "      <td>Maruti</td>\n",
       "      <td>Alto</td>\n",
       "      <td>2020</td>\n",
       "      <td>Petrol</td>\n",
       "      <td>4,179 km</td>\n",
       "      <td>₹3,30,799</td>\n",
       "    </tr>\n",
       "    <tr>\n",
       "      <th>5152</th>\n",
       "      <td>Maruti</td>\n",
       "      <td>Alto</td>\n",
       "      <td>2020</td>\n",
       "      <td>Petrol</td>\n",
       "      <td>38,222 km</td>\n",
       "      <td>₹3,61,899</td>\n",
       "    </tr>\n",
       "    <tr>\n",
       "      <th>5153</th>\n",
       "      <td>Maruti</td>\n",
       "      <td>Alto</td>\n",
       "      <td>2018</td>\n",
       "      <td>Petrol</td>\n",
       "      <td>24,853 km</td>\n",
       "      <td>₹2,96,799</td>\n",
       "    </tr>\n",
       "    <tr>\n",
       "      <th>5154</th>\n",
       "      <td>Maruti</td>\n",
       "      <td>Alto</td>\n",
       "      <td>2018</td>\n",
       "      <td>Petrol</td>\n",
       "      <td>50,463 km</td>\n",
       "      <td>₹3,32,599</td>\n",
       "    </tr>\n",
       "    <tr>\n",
       "      <th>5155</th>\n",
       "      <td>Maruti</td>\n",
       "      <td>Celerio</td>\n",
       "      <td>2018</td>\n",
       "      <td>Petrol</td>\n",
       "      <td>41,352 km</td>\n",
       "      <td>₹4,40,199</td>\n",
       "    </tr>\n",
       "  </tbody>\n",
       "</table>\n",
       "<p>5156 rows × 6 columns</p>\n",
       "</div>"
      ],
      "text/plain": [
       "        Brand    Model  Year    Fuel    KM driven       Price\n",
       "0         KIA   SELTOS  2020  Petrol     5,822 km  ₹11,33,599\n",
       "1      Maruti    Swift  2012  Diesel  1,18,117 km   ₹3,43,199\n",
       "2     Hyundai    Verna  2013  Diesel    53,517 km   ₹4,82,299\n",
       "3      Maruti    Swift  2013  Diesel    49,944 km   ₹3,54,299\n",
       "4      Maruti    Swift  2016  Diesel  1,06,080 km   ₹4,49,299\n",
       "...       ...      ...   ...     ...          ...         ...\n",
       "5151   Maruti     Alto  2020  Petrol     4,179 km   ₹3,30,799\n",
       "5152   Maruti     Alto  2020  Petrol    38,222 km   ₹3,61,899\n",
       "5153   Maruti     Alto  2018  Petrol    24,853 km   ₹2,96,799\n",
       "5154   Maruti     Alto  2018  Petrol    50,463 km   ₹3,32,599\n",
       "5155   Maruti  Celerio  2018  Petrol    41,352 km   ₹4,40,199\n",
       "\n",
       "[5156 rows x 6 columns]"
      ]
     },
     "execution_count": 7,
     "metadata": {},
     "output_type": "execute_result"
    }
   ],
   "source": [
    "df"
   ]
  },
  {
   "cell_type": "markdown",
   "metadata": {},
   "source": [
    "Dropped the unnecessary column \"Unnamed: 0\""
   ]
  },
  {
   "cell_type": "code",
   "execution_count": 8,
   "metadata": {},
   "outputs": [
    {
     "data": {
      "text/plain": [
       "array(['KIA', 'Maruti', 'Hyundai', 'Audi', 'Ford', 'Honda', 'Datsun',\n",
       "       'Toyota', 'Tata', 'Ssangyong', 'Renault', 'Volkswagen', 'Mercedes',\n",
       "       'MG', 'Skoda', 'BMW', 'Mahindra', 'Jeep', 'Nissan', 'RENAULT',\n",
       "       'HYUNDAI', 'Landrover'], dtype=object)"
      ]
     },
     "execution_count": 8,
     "metadata": {},
     "output_type": "execute_result"
    }
   ],
   "source": [
    "df['Brand'].unique()"
   ]
  },
  {
   "cell_type": "code",
   "execution_count": 9,
   "metadata": {},
   "outputs": [
    {
     "data": {
      "text/plain": [
       "Maruti        2636\n",
       "Hyundai       1233\n",
       "Ford           328\n",
       "Honda          296\n",
       "Renault        116\n",
       "Volkswagen     112\n",
       "Tata           100\n",
       "Toyota          92\n",
       "KIA             62\n",
       "Mahindra        41\n",
       "MG              33\n",
       "Datsun          29\n",
       "Skoda           25\n",
       "Jeep            18\n",
       "Audi            11\n",
       "Nissan           8\n",
       "BMW              5\n",
       "Mercedes         5\n",
       "Ssangyong        3\n",
       "HYUNDAI          1\n",
       "Landrover        1\n",
       "RENAULT          1\n",
       "Name: Brand, dtype: int64"
      ]
     },
     "execution_count": 9,
     "metadata": {},
     "output_type": "execute_result"
    }
   ],
   "source": [
    "# Count of each data present\n",
    "df['Brand'].value_counts()"
   ]
  },
  {
   "cell_type": "code",
   "execution_count": 10,
   "metadata": {},
   "outputs": [
    {
     "data": {
      "text/plain": [
       "array(['SELTOS', 'Swift', 'Verna', 'New', 'Q3', 'Ecosport', 'Amaze',\n",
       "       'Redi', 'Creta', 'Vitara', 'Innova', 'NEW', 'Tiago', 'Alto',\n",
       "       'Rexton', 'i20', 'i10', 'Grand', 'Wagon', 'Kwid', 'Figo', 'Eon',\n",
       "       'Ameo', 'Ciaz', 'XL6', 'Eeco', 'Baleno', 'City', 'Benz', 'HECTOR',\n",
       "       'IGNIS', 'Elite', 'Superb', 'GRAND', '3', 'Rapid', 'Dzire',\n",
       "       'Camry', 'VENUE', 'Kuv100', 'Celerio', 'Xcent', 'WR-V', 'Brio',\n",
       "       'S', 'Vento', 'Ertiga', 'Polo', 'Corolla', 'Jazz', 'Compass',\n",
       "       'Etios', 'Glanza', 'TUV300', 'Bolero', 'Harrier', 'Hexa', 'Civic',\n",
       "       'NEXON', 'Micra', 'A', 'Octavia', 'Ritz', 'Nano', 'Mobilio',\n",
       "       'FREESTYLE', 'YARIS', 'Duster', 'Tucson', 'Santro', 'TRIBER',\n",
       "       'XUV500', 'Sunny', 'CRV', 'Scorpio', 'Captur', 'AURA', 'ALTROZ',\n",
       "       'Kiger', 'X1', 'Terrano', 'Renault', 'Endeavour', 'Fortuner', 'A4',\n",
       "       'Freelander', 'Go', 'MARAZZO', 'A3', 'KAROQ', 'XUV'], dtype=object)"
      ]
     },
     "execution_count": 10,
     "metadata": {},
     "output_type": "execute_result"
    }
   ],
   "source": [
    "# Looking for the duplicate values\n",
    "df['Model'].unique()"
   ]
  },
  {
   "cell_type": "markdown",
   "metadata": {},
   "source": [
    "No duplicate values are present in the dataset"
   ]
  },
  {
   "cell_type": "code",
   "execution_count": 11,
   "metadata": {},
   "outputs": [
    {
     "data": {
      "text/plain": [
       "array(['Petrol', 'Diesel', 'Petrol + CNG', 'Petrol + LPG'], dtype=object)"
      ]
     },
     "execution_count": 11,
     "metadata": {},
     "output_type": "execute_result"
    }
   ],
   "source": [
    "# Checked for the unique values in \n",
    "df['Fuel'].unique()"
   ]
  },
  {
   "cell_type": "code",
   "execution_count": 12,
   "metadata": {},
   "outputs": [
    {
     "data": {
      "text/plain": [
       "Petrol          3796\n",
       "Diesel          1278\n",
       "Petrol + CNG      81\n",
       "Petrol + LPG       1\n",
       "Name: Fuel, dtype: int64"
      ]
     },
     "execution_count": 12,
     "metadata": {},
     "output_type": "execute_result"
    }
   ],
   "source": [
    "df['Fuel'].value_counts()"
   ]
  },
  {
   "cell_type": "code",
   "execution_count": 13,
   "metadata": {},
   "outputs": [
    {
     "data": {
      "text/plain": [
       "array(['₹11,33,599', '₹3,43,199', '₹4,82,299', ..., '₹7,94,499',\n",
       "       '₹4,27,699', '₹65,000'], dtype=object)"
      ]
     },
     "execution_count": 13,
     "metadata": {},
     "output_type": "execute_result"
    }
   ],
   "source": [
    "df['Price'].unique()"
   ]
  },
  {
   "cell_type": "code",
   "execution_count": 14,
   "metadata": {},
   "outputs": [],
   "source": [
    "# lets remove price symbol and the comma in between amount\n",
    "\n",
    "df['Price'] = df['Price'].str.replace('₹', '')"
   ]
  },
  {
   "cell_type": "code",
   "execution_count": 15,
   "metadata": {},
   "outputs": [],
   "source": [
    "df['Price'] = df['Price'].str.replace(',', '')"
   ]
  },
  {
   "cell_type": "code",
   "execution_count": 16,
   "metadata": {},
   "outputs": [
    {
     "data": {
      "text/plain": [
       "array(['1133599', '343199', '482299', ..., '794499', '427699', '65000'],\n",
       "      dtype=object)"
      ]
     },
     "execution_count": 16,
     "metadata": {},
     "output_type": "execute_result"
    }
   ],
   "source": [
    "df['Price'].unique()"
   ]
  },
  {
   "cell_type": "code",
   "execution_count": 17,
   "metadata": {},
   "outputs": [],
   "source": [
    "# Removing the string element from the data. km/kms and comma(,) is replaced with space.\n",
    "df['KM driven']=df['KM driven'].str.replace(',','')\n",
    "df['KM driven']=df['KM driven'].str.replace('km','')"
   ]
  },
  {
   "cell_type": "code",
   "execution_count": 18,
   "metadata": {},
   "outputs": [
    {
     "data": {
      "text/plain": [
       "array(['5822 ', '118117 ', '53517 ', ..., '27117 ', '8663 ', '191192 '],\n",
       "      dtype=object)"
      ]
     },
     "execution_count": 18,
     "metadata": {},
     "output_type": "execute_result"
    }
   ],
   "source": [
    "df['KM driven'].unique()"
   ]
  },
  {
   "cell_type": "code",
   "execution_count": 19,
   "metadata": {},
   "outputs": [],
   "source": [
    "# The data type is changed from object type to float type.\n",
    "df['KM driven']=df['KM driven'].astype('float')"
   ]
  },
  {
   "cell_type": "code",
   "execution_count": 20,
   "metadata": {},
   "outputs": [
    {
     "data": {
      "text/html": [
       "<div>\n",
       "<style scoped>\n",
       "    .dataframe tbody tr th:only-of-type {\n",
       "        vertical-align: middle;\n",
       "    }\n",
       "\n",
       "    .dataframe tbody tr th {\n",
       "        vertical-align: top;\n",
       "    }\n",
       "\n",
       "    .dataframe thead th {\n",
       "        text-align: right;\n",
       "    }\n",
       "</style>\n",
       "<table border=\"1\" class=\"dataframe\">\n",
       "  <thead>\n",
       "    <tr style=\"text-align: right;\">\n",
       "      <th></th>\n",
       "      <th>Brand</th>\n",
       "      <th>Model</th>\n",
       "      <th>Year</th>\n",
       "      <th>Fuel</th>\n",
       "      <th>KM driven</th>\n",
       "      <th>Price</th>\n",
       "    </tr>\n",
       "  </thead>\n",
       "  <tbody>\n",
       "    <tr>\n",
       "      <th>0</th>\n",
       "      <td>KIA</td>\n",
       "      <td>SELTOS</td>\n",
       "      <td>2020</td>\n",
       "      <td>Petrol</td>\n",
       "      <td>5822.0</td>\n",
       "      <td>1133599</td>\n",
       "    </tr>\n",
       "    <tr>\n",
       "      <th>1</th>\n",
       "      <td>Maruti</td>\n",
       "      <td>Swift</td>\n",
       "      <td>2012</td>\n",
       "      <td>Diesel</td>\n",
       "      <td>118117.0</td>\n",
       "      <td>343199</td>\n",
       "    </tr>\n",
       "    <tr>\n",
       "      <th>2</th>\n",
       "      <td>Hyundai</td>\n",
       "      <td>Verna</td>\n",
       "      <td>2013</td>\n",
       "      <td>Diesel</td>\n",
       "      <td>53517.0</td>\n",
       "      <td>482299</td>\n",
       "    </tr>\n",
       "    <tr>\n",
       "      <th>3</th>\n",
       "      <td>Maruti</td>\n",
       "      <td>Swift</td>\n",
       "      <td>2013</td>\n",
       "      <td>Diesel</td>\n",
       "      <td>49944.0</td>\n",
       "      <td>354299</td>\n",
       "    </tr>\n",
       "    <tr>\n",
       "      <th>4</th>\n",
       "      <td>Maruti</td>\n",
       "      <td>Swift</td>\n",
       "      <td>2016</td>\n",
       "      <td>Diesel</td>\n",
       "      <td>106080.0</td>\n",
       "      <td>449299</td>\n",
       "    </tr>\n",
       "    <tr>\n",
       "      <th>...</th>\n",
       "      <td>...</td>\n",
       "      <td>...</td>\n",
       "      <td>...</td>\n",
       "      <td>...</td>\n",
       "      <td>...</td>\n",
       "      <td>...</td>\n",
       "    </tr>\n",
       "    <tr>\n",
       "      <th>5151</th>\n",
       "      <td>Maruti</td>\n",
       "      <td>Alto</td>\n",
       "      <td>2020</td>\n",
       "      <td>Petrol</td>\n",
       "      <td>4179.0</td>\n",
       "      <td>330799</td>\n",
       "    </tr>\n",
       "    <tr>\n",
       "      <th>5152</th>\n",
       "      <td>Maruti</td>\n",
       "      <td>Alto</td>\n",
       "      <td>2020</td>\n",
       "      <td>Petrol</td>\n",
       "      <td>38222.0</td>\n",
       "      <td>361899</td>\n",
       "    </tr>\n",
       "    <tr>\n",
       "      <th>5153</th>\n",
       "      <td>Maruti</td>\n",
       "      <td>Alto</td>\n",
       "      <td>2018</td>\n",
       "      <td>Petrol</td>\n",
       "      <td>24853.0</td>\n",
       "      <td>296799</td>\n",
       "    </tr>\n",
       "    <tr>\n",
       "      <th>5154</th>\n",
       "      <td>Maruti</td>\n",
       "      <td>Alto</td>\n",
       "      <td>2018</td>\n",
       "      <td>Petrol</td>\n",
       "      <td>50463.0</td>\n",
       "      <td>332599</td>\n",
       "    </tr>\n",
       "    <tr>\n",
       "      <th>5155</th>\n",
       "      <td>Maruti</td>\n",
       "      <td>Celerio</td>\n",
       "      <td>2018</td>\n",
       "      <td>Petrol</td>\n",
       "      <td>41352.0</td>\n",
       "      <td>440199</td>\n",
       "    </tr>\n",
       "  </tbody>\n",
       "</table>\n",
       "<p>5156 rows × 6 columns</p>\n",
       "</div>"
      ],
      "text/plain": [
       "        Brand    Model  Year    Fuel  KM driven    Price\n",
       "0         KIA   SELTOS  2020  Petrol     5822.0  1133599\n",
       "1      Maruti    Swift  2012  Diesel   118117.0   343199\n",
       "2     Hyundai    Verna  2013  Diesel    53517.0   482299\n",
       "3      Maruti    Swift  2013  Diesel    49944.0   354299\n",
       "4      Maruti    Swift  2016  Diesel   106080.0   449299\n",
       "...       ...      ...   ...     ...        ...      ...\n",
       "5151   Maruti     Alto  2020  Petrol     4179.0   330799\n",
       "5152   Maruti     Alto  2020  Petrol    38222.0   361899\n",
       "5153   Maruti     Alto  2018  Petrol    24853.0   296799\n",
       "5154   Maruti     Alto  2018  Petrol    50463.0   332599\n",
       "5155   Maruti  Celerio  2018  Petrol    41352.0   440199\n",
       "\n",
       "[5156 rows x 6 columns]"
      ]
     },
     "execution_count": 20,
     "metadata": {},
     "output_type": "execute_result"
    }
   ],
   "source": [
    "df"
   ]
  },
  {
   "cell_type": "markdown",
   "metadata": {},
   "source": [
    "# EDA"
   ]
  },
  {
   "cell_type": "code",
   "execution_count": 22,
   "metadata": {},
   "outputs": [
    {
     "data": {
      "image/png": "[encoded data removed]",
      "text/plain": [
       "<Figure size 1080x864 with 1 Axes>"
      ]
     },
     "metadata": {
      "needs_background": "light"
     },
     "output_type": "display_data"
    },
    {
     "name": "stdout",
     "output_type": "stream",
     "text": [
      "Maruti        2636\n",
      "Hyundai       1233\n",
      "Ford           328\n",
      "Honda          296\n",
      "Renault        116\n",
      "Volkswagen     112\n",
      "Tata           100\n",
      "Toyota          92\n",
      "KIA             62\n",
      "Mahindra        41\n",
      "MG              33\n",
      "Datsun          29\n",
      "Skoda           25\n",
      "Jeep            18\n",
      "Audi            11\n",
      "Nissan           8\n",
      "BMW              5\n",
      "Mercedes         5\n",
      "Ssangyong        3\n",
      "HYUNDAI          1\n",
      "Landrover        1\n",
      "RENAULT          1\n",
      "Name: Brand, dtype: int64\n"
     ]
    }
   ],
   "source": [
    "plt.figure(figsize=(15,12))\n",
    "sn.countplot(x='Brand',data=df,palette='Set2')\n",
    "plt.xlabel(\"Brand Names\")\n",
    "plt.xticks(rotation='45')\n",
    "plt.ylabel(\"Counts\")\n",
    "plt.show()\n",
    "\n",
    "print(df['Brand'].value_counts())"
   ]
  },
  {
   "cell_type": "markdown",
   "metadata": {},
   "source": [
    "Maruti cars are more for sell compare to other brands."
   ]
  },
  {
   "cell_type": "code",
   "execution_count": 23,
   "metadata": {},
   "outputs": [
    {
     "data": {
      "image/png": "[encoded data removed]",
      "text/plain": [
       "<Figure size 1080x360 with 2 Axes>"
      ]
     },
     "metadata": {
      "needs_background": "light"
     },
     "output_type": "display_data"
    },
    {
     "data": {
      "text/plain": [
       "Petrol          3796\n",
       "Diesel          1278\n",
       "Petrol + CNG      81\n",
       "Petrol + LPG       1\n",
       "Name: Fuel, dtype: int64"
      ]
     },
     "execution_count": 23,
     "metadata": {},
     "output_type": "execute_result"
    }
   ],
   "source": [
    "plt.figure(figsize=(15,5))\n",
    "plt.subplot(1,2,1)\n",
    "df['Fuel'].value_counts().plot.pie(autopct='%1.1f%%')\n",
    "plt.subplot(1,2,2)\n",
    "sn.countplot(df['Fuel'])\n",
    "plt.xlabel(\"Fuel Used in the vehicle\")\n",
    "plt.xticks(rotation='45')\n",
    "plt.ylabel(\"Counts\")\n",
    "plt.show()\n",
    "df['Fuel'].value_counts()"
   ]
  },
  {
   "cell_type": "markdown",
   "metadata": {},
   "source": [
    "Petrol car is more sold than other fuels"
   ]
  },
  {
   "cell_type": "code",
   "execution_count": 24,
   "metadata": {},
   "outputs": [
    {
     "data": {
      "image/png": "[encoded data removed]",
      "text/plain": [
       "<Figure size 3600x2880 with 1 Axes>"
      ]
     },
     "metadata": {
      "needs_background": "light"
     },
     "output_type": "display_data"
    },
    {
     "name": "stdout",
     "output_type": "stream",
     "text": [
      "Alto        573\n",
      "Swift       436\n",
      "Baleno      357\n",
      "Vitara      275\n",
      "Ecosport    275\n",
      "           ... \n",
      "Terrano       1\n",
      "Kiger         1\n",
      "Renault       1\n",
      "Go            1\n",
      "ALTROZ        1\n",
      "Name: Model, Length: 91, dtype: int64\n"
     ]
    }
   ],
   "source": [
    "plt.figure(figsize=(50,40))\n",
    "sn.countplot(x='Model',data=df,palette='gnuplot2')\n",
    "plt.xlabel(\"Model of cars\")\n",
    "plt.xticks(rotation='45')\n",
    "plt.ylabel(\"Counts\")\n",
    "plt.show()\n",
    "\n",
    "print(df['Model'].value_counts())"
   ]
  },
  {
   "cell_type": "markdown",
   "metadata": {},
   "source": [
    "Alto is the model which is most sold"
   ]
  },
  {
   "cell_type": "code",
   "execution_count": 25,
   "metadata": {},
   "outputs": [
    {
     "data": {
      "image/png": "[encoded data removed]",
      "text/plain": [
       "<Figure size 1440x720 with 1 Axes>"
      ]
     },
     "metadata": {
      "needs_background": "light"
     },
     "output_type": "display_data"
    }
   ],
   "source": [
    "df['KM driven'].hist(bins=100,figsize=(20,10),rwidth = 0.75)\n",
    "plt.title('Car Prices')\n",
    "plt.show()"
   ]
  },
  {
   "cell_type": "code",
   "execution_count": 26,
   "metadata": {},
   "outputs": [
    {
     "data": {
      "text/html": [
       "<div>\n",
       "<style scoped>\n",
       "    .dataframe tbody tr th:only-of-type {\n",
       "        vertical-align: middle;\n",
       "    }\n",
       "\n",
       "    .dataframe tbody tr th {\n",
       "        vertical-align: top;\n",
       "    }\n",
       "\n",
       "    .dataframe thead th {\n",
       "        text-align: right;\n",
       "    }\n",
       "</style>\n",
       "<table border=\"1\" class=\"dataframe\">\n",
       "  <thead>\n",
       "    <tr style=\"text-align: right;\">\n",
       "      <th></th>\n",
       "      <th>Year</th>\n",
       "      <th>KM driven</th>\n",
       "    </tr>\n",
       "  </thead>\n",
       "  <tbody>\n",
       "    <tr>\n",
       "      <th>Year</th>\n",
       "      <td>1.000000</td>\n",
       "      <td>-0.459239</td>\n",
       "    </tr>\n",
       "    <tr>\n",
       "      <th>KM driven</th>\n",
       "      <td>-0.459239</td>\n",
       "      <td>1.000000</td>\n",
       "    </tr>\n",
       "  </tbody>\n",
       "</table>\n",
       "</div>"
      ],
      "text/plain": [
       "               Year  KM driven\n",
       "Year       1.000000  -0.459239\n",
       "KM driven -0.459239   1.000000"
      ]
     },
     "execution_count": 26,
     "metadata": {},
     "output_type": "execute_result"
    }
   ],
   "source": [
    "cor=df.corr()\n",
    "cor"
   ]
  },
  {
   "cell_type": "code",
   "execution_count": 28,
   "metadata": {},
   "outputs": [],
   "source": [
    "df['Price']=df['Price'].astype('float') # changing the data type for target variable Price"
   ]
  },
  {
   "cell_type": "code",
   "execution_count": 29,
   "metadata": {},
   "outputs": [
    {
     "name": "stdout",
     "output_type": "stream",
     "text": [
      "Minimum 65000.0\n",
      "Maximum 2322099.0\n"
     ]
    },
    {
     "data": {
      "image/png": "[encoded data removed]",
      "text/plain": [
       "<Figure size 576x432 with 1 Axes>"
      ]
     },
     "metadata": {
      "needs_background": "light"
     },
     "output_type": "display_data"
    }
   ],
   "source": [
    "plt.figure(figsize=(8,6))\n",
    "sn.distplot(df['Price'],color='b', kde_kws={\"color\": \"r\"})\n",
    "\n",
    "# printing min and max value for Price\n",
    "print('Minimum',df['Price'].min())\n",
    "print('Maximum',df['Price'].max())"
   ]
  },
  {
   "cell_type": "code",
   "execution_count": 31,
   "metadata": {},
   "outputs": [
    {
     "data": {
      "image/png": "[encoded data removed]",
      "text/plain": [
       "<Figure size 1080x360 with 2 Axes>"
      ]
     },
     "metadata": {
      "needs_background": "light"
     },
     "output_type": "display_data"
    },
    {
     "data": {
      "text/plain": [
       "2018    1075\n",
       "2017    1049\n",
       "2019     792\n",
       "2016     702\n",
       "2020     431\n",
       "2015     404\n",
       "2014     303\n",
       "2013     152\n",
       "2012     116\n",
       "2011      50\n",
       "2021      46\n",
       "2009      25\n",
       "2010       9\n",
       "2007       2\n",
       "Name: Year, dtype: int64"
      ]
     },
     "execution_count": 31,
     "metadata": {},
     "output_type": "execute_result"
    }
   ],
   "source": [
    "plt.figure(figsize=(15,5))\n",
    "plt.subplot(1,2,1)\n",
    "df['Year'].value_counts().plot.pie(autopct='%1.1f%%')\n",
    "plt.subplot(1,2,2)\n",
    "sn.countplot(df['Year'])\n",
    "plt.xlabel(\"Manufacturing Year of vehicle\")\n",
    "plt.xticks(rotation='45')\n",
    "plt.ylabel(\"Counts\")\n",
    "plt.show()\n",
    "df['Year'].value_counts()"
   ]
  },
  {
   "cell_type": "markdown",
   "metadata": {},
   "source": [
    "Majority of the cars lie within the year range of 2016 to 2019"
   ]
  },
  {
   "cell_type": "code",
   "execution_count": 35,
   "metadata": {},
   "outputs": [
    {
     "data": {
      "text/plain": [
       "Text(0, 0.5, 'Year')"
      ]
     },
     "execution_count": 35,
     "metadata": {},
     "output_type": "execute_result"
    },
    {
     "data": {
      "image/png": "[encoded data removed]",
      "text/plain": [
       "<Figure size 864x1080 with 1 Axes>"
      ]
     },
     "metadata": {
      "needs_background": "light"
     },
     "output_type": "display_data"
    }
   ],
   "source": [
    "# Bivariant analysis of Prices with years of manufacturing\n",
    "plt.figure(figsize =(12,15))\n",
    "sn.scatterplot(data = df, x = df['Price'], y = df['Year']);\n",
    "plt.xlabel(\"Price\", fontsize = 12)\n",
    "plt.ylabel(\"Year\")"
   ]
  },
  {
   "cell_type": "markdown",
   "metadata": {},
   "source": [
    "Prices are less if cars are of old models "
   ]
  },
  {
   "cell_type": "markdown",
   "metadata": {},
   "source": [
    "# Using LabelEncoder for convering categorical to numerica"
   ]
  },
  {
   "cell_type": "code",
   "execution_count": 38,
   "metadata": {},
   "outputs": [
    {
     "data": {
      "text/plain": [
       "Index(['Brand', 'Model', 'Year', 'Fuel', 'KM driven', 'Price'], dtype='object')"
      ]
     },
     "execution_count": 38,
     "metadata": {},
     "output_type": "execute_result"
    }
   ],
   "source": [
    "df.columns"
   ]
  },
  {
   "cell_type": "code",
   "execution_count": 39,
   "metadata": {},
   "outputs": [],
   "source": [
    "from sklearn.preprocessing import LabelEncoder"
   ]
  },
  {
   "cell_type": "code",
   "execution_count": 40,
   "metadata": {},
   "outputs": [],
   "source": [
    "le= LabelEncoder()\n",
    "df['Brand'] = le.fit_transform(df['Brand'].values.reshape(-1,1))\n",
    "df['Model'] = le.fit_transform(df['Model'].values.reshape(-1,1))\n",
    "df['Fuel'] = le.fit_transform(df['Fuel'].values.reshape(-1,1))\n"
   ]
  },
  {
   "cell_type": "code",
   "execution_count": 41,
   "metadata": {},
   "outputs": [
    {
     "data": {
      "text/html": [
       "<div>\n",
       "<style scoped>\n",
       "    .dataframe tbody tr th:only-of-type {\n",
       "        vertical-align: middle;\n",
       "    }\n",
       "\n",
       "    .dataframe tbody tr th {\n",
       "        vertical-align: top;\n",
       "    }\n",
       "\n",
       "    .dataframe thead th {\n",
       "        text-align: right;\n",
       "    }\n",
       "</style>\n",
       "<table border=\"1\" class=\"dataframe\">\n",
       "  <thead>\n",
       "    <tr style=\"text-align: right;\">\n",
       "      <th></th>\n",
       "      <th>Brand</th>\n",
       "      <th>Model</th>\n",
       "      <th>Year</th>\n",
       "      <th>Fuel</th>\n",
       "      <th>KM driven</th>\n",
       "      <th>Price</th>\n",
       "    </tr>\n",
       "  </thead>\n",
       "  <tbody>\n",
       "    <tr>\n",
       "      <th>0</th>\n",
       "      <td>8</td>\n",
       "      <td>66</td>\n",
       "      <td>2020</td>\n",
       "      <td>1</td>\n",
       "      <td>5822.0</td>\n",
       "      <td>1133599.0</td>\n",
       "    </tr>\n",
       "    <tr>\n",
       "      <th>1</th>\n",
       "      <td>12</td>\n",
       "      <td>71</td>\n",
       "      <td>2012</td>\n",
       "      <td>0</td>\n",
       "      <td>118117.0</td>\n",
       "      <td>343199.0</td>\n",
       "    </tr>\n",
       "    <tr>\n",
       "      <th>2</th>\n",
       "      <td>6</td>\n",
       "      <td>79</td>\n",
       "      <td>2013</td>\n",
       "      <td>0</td>\n",
       "      <td>53517.0</td>\n",
       "      <td>482299.0</td>\n",
       "    </tr>\n",
       "    <tr>\n",
       "      <th>3</th>\n",
       "      <td>12</td>\n",
       "      <td>71</td>\n",
       "      <td>2013</td>\n",
       "      <td>0</td>\n",
       "      <td>49944.0</td>\n",
       "      <td>354299.0</td>\n",
       "    </tr>\n",
       "    <tr>\n",
       "      <th>4</th>\n",
       "      <td>12</td>\n",
       "      <td>71</td>\n",
       "      <td>2016</td>\n",
       "      <td>0</td>\n",
       "      <td>106080.0</td>\n",
       "      <td>449299.0</td>\n",
       "    </tr>\n",
       "    <tr>\n",
       "      <th>...</th>\n",
       "      <td>...</td>\n",
       "      <td>...</td>\n",
       "      <td>...</td>\n",
       "      <td>...</td>\n",
       "      <td>...</td>\n",
       "      <td>...</td>\n",
       "    </tr>\n",
       "    <tr>\n",
       "      <th>5151</th>\n",
       "      <td>12</td>\n",
       "      <td>6</td>\n",
       "      <td>2020</td>\n",
       "      <td>1</td>\n",
       "      <td>4179.0</td>\n",
       "      <td>330799.0</td>\n",
       "    </tr>\n",
       "    <tr>\n",
       "      <th>5152</th>\n",
       "      <td>12</td>\n",
       "      <td>6</td>\n",
       "      <td>2020</td>\n",
       "      <td>1</td>\n",
       "      <td>38222.0</td>\n",
       "      <td>361899.0</td>\n",
       "    </tr>\n",
       "    <tr>\n",
       "      <th>5153</th>\n",
       "      <td>12</td>\n",
       "      <td>6</td>\n",
       "      <td>2018</td>\n",
       "      <td>1</td>\n",
       "      <td>24853.0</td>\n",
       "      <td>296799.0</td>\n",
       "    </tr>\n",
       "    <tr>\n",
       "      <th>5154</th>\n",
       "      <td>12</td>\n",
       "      <td>6</td>\n",
       "      <td>2018</td>\n",
       "      <td>1</td>\n",
       "      <td>50463.0</td>\n",
       "      <td>332599.0</td>\n",
       "    </tr>\n",
       "    <tr>\n",
       "      <th>5155</th>\n",
       "      <td>12</td>\n",
       "      <td>16</td>\n",
       "      <td>2018</td>\n",
       "      <td>1</td>\n",
       "      <td>41352.0</td>\n",
       "      <td>440199.0</td>\n",
       "    </tr>\n",
       "  </tbody>\n",
       "</table>\n",
       "<p>5156 rows × 6 columns</p>\n",
       "</div>"
      ],
      "text/plain": [
       "      Brand  Model  Year  Fuel  KM driven      Price\n",
       "0         8     66  2020     1     5822.0  1133599.0\n",
       "1        12     71  2012     0   118117.0   343199.0\n",
       "2         6     79  2013     0    53517.0   482299.0\n",
       "3        12     71  2013     0    49944.0   354299.0\n",
       "4        12     71  2016     0   106080.0   449299.0\n",
       "...     ...    ...   ...   ...        ...        ...\n",
       "5151     12      6  2020     1     4179.0   330799.0\n",
       "5152     12      6  2020     1    38222.0   361899.0\n",
       "5153     12      6  2018     1    24853.0   296799.0\n",
       "5154     12      6  2018     1    50463.0   332599.0\n",
       "5155     12     16  2018     1    41352.0   440199.0\n",
       "\n",
       "[5156 rows x 6 columns]"
      ]
     },
     "execution_count": 41,
     "metadata": {},
     "output_type": "execute_result"
    }
   ],
   "source": [
    "df"
   ]
  },
  {
   "cell_type": "code",
   "execution_count": 42,
   "metadata": {},
   "outputs": [
    {
     "data": {
      "text/html": [
       "<div>\n",
       "<style scoped>\n",
       "    .dataframe tbody tr th:only-of-type {\n",
       "        vertical-align: middle;\n",
       "    }\n",
       "\n",
       "    .dataframe tbody tr th {\n",
       "        vertical-align: top;\n",
       "    }\n",
       "\n",
       "    .dataframe thead th {\n",
       "        text-align: right;\n",
       "    }\n",
       "</style>\n",
       "<table border=\"1\" class=\"dataframe\">\n",
       "  <thead>\n",
       "    <tr style=\"text-align: right;\">\n",
       "      <th></th>\n",
       "      <th>Brand</th>\n",
       "      <th>Model</th>\n",
       "      <th>Year</th>\n",
       "      <th>Fuel</th>\n",
       "      <th>KM driven</th>\n",
       "      <th>Price</th>\n",
       "    </tr>\n",
       "  </thead>\n",
       "  <tbody>\n",
       "    <tr>\n",
       "      <th>count</th>\n",
       "      <td>5156.000000</td>\n",
       "      <td>5156.000000</td>\n",
       "      <td>5156.000000</td>\n",
       "      <td>5156.000000</td>\n",
       "      <td>5156.000000</td>\n",
       "      <td>5.156000e+03</td>\n",
       "    </tr>\n",
       "    <tr>\n",
       "      <th>mean</th>\n",
       "      <td>10.006206</td>\n",
       "      <td>40.165438</td>\n",
       "      <td>2016.989527</td>\n",
       "      <td>0.768231</td>\n",
       "      <td>39173.349496</td>\n",
       "      <td>6.111196e+05</td>\n",
       "    </tr>\n",
       "    <tr>\n",
       "      <th>std</th>\n",
       "      <td>4.275566</td>\n",
       "      <td>27.610179</td>\n",
       "      <td>2.124881</td>\n",
       "      <td>0.458995</td>\n",
       "      <td>31792.783837</td>\n",
       "      <td>2.984374e+05</td>\n",
       "    </tr>\n",
       "    <tr>\n",
       "      <th>min</th>\n",
       "      <td>0.000000</td>\n",
       "      <td>0.000000</td>\n",
       "      <td>2007.000000</td>\n",
       "      <td>0.000000</td>\n",
       "      <td>120.000000</td>\n",
       "      <td>6.500000e+04</td>\n",
       "    </tr>\n",
       "    <tr>\n",
       "      <th>25%</th>\n",
       "      <td>6.000000</td>\n",
       "      <td>16.000000</td>\n",
       "      <td>2016.000000</td>\n",
       "      <td>1.000000</td>\n",
       "      <td>15672.500000</td>\n",
       "      <td>4.097990e+05</td>\n",
       "    </tr>\n",
       "    <tr>\n",
       "      <th>50%</th>\n",
       "      <td>12.000000</td>\n",
       "      <td>30.000000</td>\n",
       "      <td>2017.000000</td>\n",
       "      <td>1.000000</td>\n",
       "      <td>30912.000000</td>\n",
       "      <td>5.426990e+05</td>\n",
       "    </tr>\n",
       "    <tr>\n",
       "      <th>75%</th>\n",
       "      <td>12.000000</td>\n",
       "      <td>71.000000</td>\n",
       "      <td>2018.000000</td>\n",
       "      <td>1.000000</td>\n",
       "      <td>54687.000000</td>\n",
       "      <td>7.249490e+05</td>\n",
       "    </tr>\n",
       "    <tr>\n",
       "      <th>max</th>\n",
       "      <td>21.000000</td>\n",
       "      <td>90.000000</td>\n",
       "      <td>2021.000000</td>\n",
       "      <td>3.000000</td>\n",
       "      <td>277105.000000</td>\n",
       "      <td>2.322099e+06</td>\n",
       "    </tr>\n",
       "  </tbody>\n",
       "</table>\n",
       "</div>"
      ],
      "text/plain": [
       "             Brand        Model         Year         Fuel      KM driven  \\\n",
       "count  5156.000000  5156.000000  5156.000000  5156.000000    5156.000000   \n",
       "mean     10.006206    40.165438  2016.989527     0.768231   39173.349496   \n",
       "std       4.275566    27.610179     2.124881     0.458995   31792.783837   \n",
       "min       0.000000     0.000000  2007.000000     0.000000     120.000000   \n",
       "25%       6.000000    16.000000  2016.000000     1.000000   15672.500000   \n",
       "50%      12.000000    30.000000  2017.000000     1.000000   30912.000000   \n",
       "75%      12.000000    71.000000  2018.000000     1.000000   54687.000000   \n",
       "max      21.000000    90.000000  2021.000000     3.000000  277105.000000   \n",
       "\n",
       "              Price  \n",
       "count  5.156000e+03  \n",
       "mean   6.111196e+05  \n",
       "std    2.984374e+05  \n",
       "min    6.500000e+04  \n",
       "25%    4.097990e+05  \n",
       "50%    5.426990e+05  \n",
       "75%    7.249490e+05  \n",
       "max    2.322099e+06  "
      ]
     },
     "execution_count": 42,
     "metadata": {},
     "output_type": "execute_result"
    }
   ],
   "source": [
    "df.describe()"
   ]
  },
  {
   "cell_type": "markdown",
   "metadata": {},
   "source": [
    "These are the statistical values of the data"
   ]
  },
  {
   "cell_type": "code",
   "execution_count": 43,
   "metadata": {},
   "outputs": [
    {
     "data": {
      "text/html": [
       "<div>\n",
       "<style scoped>\n",
       "    .dataframe tbody tr th:only-of-type {\n",
       "        vertical-align: middle;\n",
       "    }\n",
       "\n",
       "    .dataframe tbody tr th {\n",
       "        vertical-align: top;\n",
       "    }\n",
       "\n",
       "    .dataframe thead th {\n",
       "        text-align: right;\n",
       "    }\n",
       "</style>\n",
       "<table border=\"1\" class=\"dataframe\">\n",
       "  <thead>\n",
       "    <tr style=\"text-align: right;\">\n",
       "      <th></th>\n",
       "      <th>Brand</th>\n",
       "      <th>Model</th>\n",
       "      <th>Year</th>\n",
       "      <th>Fuel</th>\n",
       "      <th>KM driven</th>\n",
       "      <th>Price</th>\n",
       "    </tr>\n",
       "  </thead>\n",
       "  <tbody>\n",
       "    <tr>\n",
       "      <th>Brand</th>\n",
       "      <td>1.000000</td>\n",
       "      <td>0.030658</td>\n",
       "      <td>0.062356</td>\n",
       "      <td>0.015165</td>\n",
       "      <td>0.008356</td>\n",
       "      <td>-0.100386</td>\n",
       "    </tr>\n",
       "    <tr>\n",
       "      <th>Model</th>\n",
       "      <td>0.030658</td>\n",
       "      <td>1.000000</td>\n",
       "      <td>-0.087540</td>\n",
       "      <td>-0.212789</td>\n",
       "      <td>0.076906</td>\n",
       "      <td>0.123838</td>\n",
       "    </tr>\n",
       "    <tr>\n",
       "      <th>Year</th>\n",
       "      <td>0.062356</td>\n",
       "      <td>-0.087540</td>\n",
       "      <td>1.000000</td>\n",
       "      <td>0.055788</td>\n",
       "      <td>-0.459239</td>\n",
       "      <td>0.386295</td>\n",
       "    </tr>\n",
       "    <tr>\n",
       "      <th>Fuel</th>\n",
       "      <td>0.015165</td>\n",
       "      <td>-0.212789</td>\n",
       "      <td>0.055788</td>\n",
       "      <td>1.000000</td>\n",
       "      <td>-0.388667</td>\n",
       "      <td>-0.291048</td>\n",
       "    </tr>\n",
       "    <tr>\n",
       "      <th>KM driven</th>\n",
       "      <td>0.008356</td>\n",
       "      <td>0.076906</td>\n",
       "      <td>-0.459239</td>\n",
       "      <td>-0.388667</td>\n",
       "      <td>1.000000</td>\n",
       "      <td>-0.067643</td>\n",
       "    </tr>\n",
       "    <tr>\n",
       "      <th>Price</th>\n",
       "      <td>-0.100386</td>\n",
       "      <td>0.123838</td>\n",
       "      <td>0.386295</td>\n",
       "      <td>-0.291048</td>\n",
       "      <td>-0.067643</td>\n",
       "      <td>1.000000</td>\n",
       "    </tr>\n",
       "  </tbody>\n",
       "</table>\n",
       "</div>"
      ],
      "text/plain": [
       "              Brand     Model      Year      Fuel  KM driven     Price\n",
       "Brand      1.000000  0.030658  0.062356  0.015165   0.008356 -0.100386\n",
       "Model      0.030658  1.000000 -0.087540 -0.212789   0.076906  0.123838\n",
       "Year       0.062356 -0.087540  1.000000  0.055788  -0.459239  0.386295\n",
       "Fuel       0.015165 -0.212789  0.055788  1.000000  -0.388667 -0.291048\n",
       "KM driven  0.008356  0.076906 -0.459239 -0.388667   1.000000 -0.067643\n",
       "Price     -0.100386  0.123838  0.386295 -0.291048  -0.067643  1.000000"
      ]
     },
     "execution_count": 43,
     "metadata": {},
     "output_type": "execute_result"
    }
   ],
   "source": [
    "cor=df.corr()\n",
    "cor"
   ]
  },
  {
   "cell_type": "markdown",
   "metadata": {},
   "source": [
    "These are the corelation values of the data"
   ]
  },
  {
   "cell_type": "code",
   "execution_count": 44,
   "metadata": {},
   "outputs": [
    {
     "data": {
      "text/plain": [
       "<AxesSubplot:>"
      ]
     },
     "execution_count": 44,
     "metadata": {},
     "output_type": "execute_result"
    },
    {
     "data": {
      "image/png": "[encoded data removed]",
      "text/plain": [
       "<Figure size 2160x1440 with 2 Axes>"
      ]
     },
     "metadata": {
      "needs_background": "light"
     },
     "output_type": "display_data"
    }
   ],
   "source": [
    "plt.figure(figsize=[30,20])\n",
    "sn.heatmap(cor,annot=True,linewidths=6,linecolor='r')"
   ]
  },
  {
   "cell_type": "markdown",
   "metadata": {},
   "source": [
    "There is only fuel data  negatively correlated with other columns "
   ]
  },
  {
   "cell_type": "code",
   "execution_count": 45,
   "metadata": {},
   "outputs": [
    {
     "data": {
      "text/plain": [
       "Brand           AxesSubplot(0.125,0.536818;0.0945122x0.343182)\n",
       "Model        AxesSubplot(0.238415,0.536818;0.0945122x0.343182)\n",
       "Year         AxesSubplot(0.351829,0.536818;0.0945122x0.343182)\n",
       "Fuel         AxesSubplot(0.465244,0.536818;0.0945122x0.343182)\n",
       "KM driven    AxesSubplot(0.578659,0.536818;0.0945122x0.343182)\n",
       "Price        AxesSubplot(0.692073,0.536818;0.0945122x0.343182)\n",
       "dtype: object"
      ]
     },
     "execution_count": 45,
     "metadata": {},
     "output_type": "execute_result"
    },
    {
     "data": {
      "image/png": "[encoded data removed]",
      "text/plain": [
       "<Figure size 432x288 with 14 Axes>"
      ]
     },
     "metadata": {
      "needs_background": "light"
     },
     "output_type": "display_data"
    }
   ],
   "source": [
    "df.plot(kind=\"box\",subplots=True,layout=(2,7))"
   ]
  },
  {
   "cell_type": "markdown",
   "metadata": {},
   "source": [
    "There are outliers present in year, brand and fuel"
   ]
  },
  {
   "cell_type": "code",
   "execution_count": 46,
   "metadata": {},
   "outputs": [
    {
     "data": {
      "text/plain": [
       "Brand          int32\n",
       "Model          int32\n",
       "Year           int64\n",
       "Fuel           int32\n",
       "KM driven    float64\n",
       "Price        float64\n",
       "dtype: object"
      ]
     },
     "execution_count": 46,
     "metadata": {},
     "output_type": "execute_result"
    }
   ],
   "source": [
    "df.dtypes"
   ]
  },
  {
   "cell_type": "markdown",
   "metadata": {},
   "source": [
    "# Outlier Remover"
   ]
  },
  {
   "cell_type": "markdown",
   "metadata": {},
   "source": [
    "Z-Score Technique:"
   ]
  },
  {
   "cell_type": "code",
   "execution_count": 47,
   "metadata": {},
   "outputs": [],
   "source": [
    "from scipy.stats import zscore"
   ]
  },
  {
   "cell_type": "code",
   "execution_count": 48,
   "metadata": {},
   "outputs": [
    {
     "data": {
      "text/plain": [
       "(5156, 6)"
      ]
     },
     "execution_count": 48,
     "metadata": {},
     "output_type": "execute_result"
    }
   ],
   "source": [
    "z=np.abs(zscore(df))\n",
    "z.shape"
   ]
  },
  {
   "cell_type": "code",
   "execution_count": 49,
   "metadata": {},
   "outputs": [
    {
     "name": "stdout",
     "output_type": "stream",
     "text": [
      "(5156, 6)\n",
      "(4930, 6)\n"
     ]
    }
   ],
   "source": [
    "df1=df[(z<3).all(axis=1)]\n",
    "print(df.shape)\n",
    "print(df1.shape)"
   ]
  },
  {
   "cell_type": "code",
   "execution_count": 50,
   "metadata": {},
   "outputs": [
    {
     "name": "stdout",
     "output_type": "stream",
     "text": [
      "4.383242823894492\n"
     ]
    }
   ],
   "source": [
    "loss_percent = (5156-4930)/5156*100\n",
    "print(loss_percent)"
   ]
  },
  {
   "cell_type": "code",
   "execution_count": 51,
   "metadata": {},
   "outputs": [
    {
     "data": {
      "text/plain": [
       "Brand        0.261146\n",
       "Model        0.369618\n",
       "Year        -0.658344\n",
       "Fuel        -0.810358\n",
       "KM driven    1.003594\n",
       "Price        0.968566\n",
       "dtype: float64"
      ]
     },
     "execution_count": 51,
     "metadata": {},
     "output_type": "execute_result"
    }
   ],
   "source": [
    "df1.skew()"
   ]
  },
  {
   "cell_type": "markdown",
   "metadata": {},
   "source": [
    "There is a skewness present in Fuel and year"
   ]
  },
  {
   "cell_type": "code",
   "execution_count": 52,
   "metadata": {},
   "outputs": [],
   "source": [
    "from sklearn.preprocessing import power_transform"
   ]
  },
  {
   "cell_type": "code",
   "execution_count": 57,
   "metadata": {},
   "outputs": [],
   "source": [
    "df1[['Fuel']]=power_transform(df1[['Fuel']])"
   ]
  },
  {
   "cell_type": "code",
   "execution_count": 58,
   "metadata": {},
   "outputs": [
    {
     "data": {
      "text/plain": [
       "Brand        0.261146\n",
       "Model        0.369618\n",
       "Year        -0.658344\n",
       "Fuel         0.013844\n",
       "KM driven    1.003594\n",
       "Price        0.968566\n",
       "dtype: float64"
      ]
     },
     "execution_count": 58,
     "metadata": {},
     "output_type": "execute_result"
    }
   ],
   "source": [
    "df1.skew()"
   ]
  },
  {
   "cell_type": "markdown",
   "metadata": {},
   "source": [
    "Skewness reduced"
   ]
  },
  {
   "cell_type": "code",
   "execution_count": 59,
   "metadata": {},
   "outputs": [
    {
     "data": {
      "text/plain": [
       "(4930, 6)"
      ]
     },
     "execution_count": 59,
     "metadata": {},
     "output_type": "execute_result"
    }
   ],
   "source": [
    "df1.shape"
   ]
  },
  {
   "cell_type": "markdown",
   "metadata": {},
   "source": [
    "# Dividing Data into x and y"
   ]
  },
  {
   "cell_type": "markdown",
   "metadata": {},
   "source": [
    "treating price as a target and treating like regression"
   ]
  },
  {
   "cell_type": "code",
   "execution_count": 62,
   "metadata": {},
   "outputs": [],
   "source": [
    "x=df1.copy()\n",
    "x.drop('Price',axis=1,inplace=True)\n",
    "\n",
    "y=df1['Price']"
   ]
  },
  {
   "cell_type": "code",
   "execution_count": 63,
   "metadata": {},
   "outputs": [
    {
     "data": {
      "text/plain": [
       "(4930, 5)"
      ]
     },
     "execution_count": 63,
     "metadata": {},
     "output_type": "execute_result"
    }
   ],
   "source": [
    "x.shape"
   ]
  },
  {
   "cell_type": "code",
   "execution_count": 64,
   "metadata": {},
   "outputs": [
    {
     "data": {
      "text/plain": [
       "(4930,)"
      ]
     },
     "execution_count": 64,
     "metadata": {},
     "output_type": "execute_result"
    }
   ],
   "source": [
    "y.shape"
   ]
  },
  {
   "cell_type": "markdown",
   "metadata": {},
   "source": [
    "# scaling"
   ]
  },
  {
   "cell_type": "code",
   "execution_count": 65,
   "metadata": {},
   "outputs": [],
   "source": [
    "from sklearn.preprocessing import MinMaxScaler\n",
    "\n",
    "scaler=MinMaxScaler()"
   ]
  },
  {
   "cell_type": "code",
   "execution_count": 66,
   "metadata": {},
   "outputs": [],
   "source": [
    "xd=scaler.fit_transform(x)\n",
    "x=pd.DataFrame(xd,columns=x.columns)"
   ]
  },
  {
   "cell_type": "markdown",
   "metadata": {},
   "source": [
    "done the scaling"
   ]
  },
  {
   "cell_type": "markdown",
   "metadata": {},
   "source": [
    "# Building Machine Learning Models"
   ]
  },
  {
   "cell_type": "code",
   "execution_count": 67,
   "metadata": {},
   "outputs": [],
   "source": [
    "from sklearn.model_selection import train_test_split,cross_val_score\n",
    "\n",
    "#importing models\n",
    "from sklearn.neighbors import KNeighborsRegressor\n",
    "from sklearn.linear_model import LinearRegression,Lasso,Ridge,ElasticNet\n",
    "from sklearn.svm import SVR\n",
    "from sklearn.tree import DecisionTreeRegressor\n",
    "from sklearn.ensemble import RandomForestRegressor,AdaBoostRegressor,GradientBoostingRegressor\n",
    "from xgboost import XGBRegressor\n",
    "\n",
    "#importing metrics\n",
    "from sklearn.metrics import r2_score,mean_absolute_error,mean_squared_error"
   ]
  },
  {
   "cell_type": "markdown",
   "metadata": {},
   "source": [
    "# Find the best random states use here"
   ]
  },
  {
   "cell_type": "markdown",
   "metadata": {},
   "source": [
    "Taking best random state as 12 "
   ]
  },
  {
   "cell_type": "code",
   "execution_count": 75,
   "metadata": {},
   "outputs": [],
   "source": [
    "#Creating list of models and another list mapped to their names\n",
    "models=[KNeighborsRegressor(),SVR(),LinearRegression(),Lasso(),Ridge(),ElasticNet(),DecisionTreeRegressor(),\n",
    "       RandomForestRegressor(),AdaBoostRegressor(),GradientBoostingRegressor(),XGBRegressor()]\n",
    "\n",
    "names=['KNeighborsRegressor','SVR','LinearRegression','Lasso','Ridge','ElasticNet','DecisionTreeRegressor',\n",
    "       'RandomForestRegressor','AdaBoostRegressor','GradientBoostingRegressor','XGBRegressor']"
   ]
  },
  {
   "cell_type": "code",
   "execution_count": 80,
   "metadata": {},
   "outputs": [],
   "source": [
    "def createmodels(model_list,independent,dependent,n):\n",
    "    xtrain,xtest,ytrain,ytest=train_test_split(independent,dependent,test_size=0.25,random_state=12)\n",
    "    name=[]\n",
    "    meanabs=[]\n",
    "    meansqd=[]\n",
    "    rootmeansqd=[]\n",
    "    r2=[]\n",
    "    mcv=[]\n",
    "    \n",
    "    #Creating models\n",
    "    for i,model in enumerate(model_list):\n",
    "        model.fit(xtrain,ytrain)\n",
    "        p=model.predict(xtest)\n",
    "        score=cross_val_score(model,independent,dependent,cv=10)\n",
    "        \n",
    "        #Calculating scores of the model and appending them to a list\n",
    "        name.append(n[i])\n",
    "        meanabs.append(np.round(mean_absolute_error(p,ytest),4))\n",
    "        meansqd.append(np.round(mean_squared_error(p,ytest),4))\n",
    "        rootmeansqd.append(np.round(np.sqrt(mean_squared_error(p,ytest)),4))\n",
    "        r2.append(np.round(r2_score(p,ytest),2))\n",
    "        mcv.append(np.round(np.mean(score),4))\n",
    "    \n",
    "    #Creating Dataframe\n",
    "    data=pd.DataFrame()\n",
    "    data['Model']=name\n",
    "    data['Mean Absolute Error']=meanabs\n",
    "    data['Mean Squared Error']=meansqd\n",
    "    data['Root Mean Squared Error']=rootmeansqd\n",
    "    data['R2 Score']=r2\n",
    "    data['Mean of Cross validaton Score']=mcv\n",
    "    data.set_index('Model',inplace = True)\n",
    "    return data"
   ]
  },
  {
   "cell_type": "code",
   "execution_count": 81,
   "metadata": {},
   "outputs": [
    {
     "data": {
      "text/html": [
       "<div>\n",
       "<style scoped>\n",
       "    .dataframe tbody tr th:only-of-type {\n",
       "        vertical-align: middle;\n",
       "    }\n",
       "\n",
       "    .dataframe tbody tr th {\n",
       "        vertical-align: top;\n",
       "    }\n",
       "\n",
       "    .dataframe thead th {\n",
       "        text-align: right;\n",
       "    }\n",
       "</style>\n",
       "<table border=\"1\" class=\"dataframe\">\n",
       "  <thead>\n",
       "    <tr style=\"text-align: right;\">\n",
       "      <th></th>\n",
       "      <th>Mean Absolute Error</th>\n",
       "      <th>Mean Squared Error</th>\n",
       "      <th>Root Mean Squared Error</th>\n",
       "      <th>R2 Score</th>\n",
       "      <th>Mean of Cross validaton Score</th>\n",
       "    </tr>\n",
       "    <tr>\n",
       "      <th>Model</th>\n",
       "      <th></th>\n",
       "      <th></th>\n",
       "      <th></th>\n",
       "      <th></th>\n",
       "      <th></th>\n",
       "    </tr>\n",
       "  </thead>\n",
       "  <tbody>\n",
       "    <tr>\n",
       "      <th>KNeighborsRegressor</th>\n",
       "      <td>47054.7038</td>\n",
       "      <td>7.419576e+09</td>\n",
       "      <td>86136.9635</td>\n",
       "      <td>0.83</td>\n",
       "      <td>0.8156</td>\n",
       "    </tr>\n",
       "    <tr>\n",
       "      <th>SVR</th>\n",
       "      <td>176225.4275</td>\n",
       "      <td>5.517308e+10</td>\n",
       "      <td>234889.5114</td>\n",
       "      <td>-4161205.58</td>\n",
       "      <td>-0.0537</td>\n",
       "    </tr>\n",
       "    <tr>\n",
       "      <th>LinearRegression</th>\n",
       "      <td>136993.5675</td>\n",
       "      <td>3.507853e+10</td>\n",
       "      <td>187292.6362</td>\n",
       "      <td>-0.88</td>\n",
       "      <td>0.3226</td>\n",
       "    </tr>\n",
       "    <tr>\n",
       "      <th>Lasso</th>\n",
       "      <td>136993.1846</td>\n",
       "      <td>3.507847e+10</td>\n",
       "      <td>187292.4794</td>\n",
       "      <td>-0.88</td>\n",
       "      <td>0.3226</td>\n",
       "    </tr>\n",
       "    <tr>\n",
       "      <th>Ridge</th>\n",
       "      <td>137002.8494</td>\n",
       "      <td>3.508339e+10</td>\n",
       "      <td>187305.6057</td>\n",
       "      <td>-0.91</td>\n",
       "      <td>0.3228</td>\n",
       "    </tr>\n",
       "    <tr>\n",
       "      <th>ElasticNet</th>\n",
       "      <td>175703.5602</td>\n",
       "      <td>5.128227e+10</td>\n",
       "      <td>226455.8802</td>\n",
       "      <td>-456.96</td>\n",
       "      <td>0.0239</td>\n",
       "    </tr>\n",
       "    <tr>\n",
       "      <th>DecisionTreeRegressor</th>\n",
       "      <td>14845.3277</td>\n",
       "      <td>2.885387e+09</td>\n",
       "      <td>53715.7964</td>\n",
       "      <td>0.95</td>\n",
       "      <td>0.8743</td>\n",
       "    </tr>\n",
       "    <tr>\n",
       "      <th>RandomForestRegressor</th>\n",
       "      <td>18364.5754</td>\n",
       "      <td>2.493327e+09</td>\n",
       "      <td>49933.2272</td>\n",
       "      <td>0.95</td>\n",
       "      <td>0.9108</td>\n",
       "    </tr>\n",
       "    <tr>\n",
       "      <th>AdaBoostRegressor</th>\n",
       "      <td>151802.4696</td>\n",
       "      <td>3.261868e+10</td>\n",
       "      <td>180606.4183</td>\n",
       "      <td>-1.04</td>\n",
       "      <td>0.3700</td>\n",
       "    </tr>\n",
       "    <tr>\n",
       "      <th>GradientBoostingRegressor</th>\n",
       "      <td>67729.0097</td>\n",
       "      <td>9.915740e+09</td>\n",
       "      <td>99577.8074</td>\n",
       "      <td>0.72</td>\n",
       "      <td>0.7962</td>\n",
       "    </tr>\n",
       "    <tr>\n",
       "      <th>XGBRegressor</th>\n",
       "      <td>24401.2314</td>\n",
       "      <td>2.419185e+09</td>\n",
       "      <td>49185.2102</td>\n",
       "      <td>0.95</td>\n",
       "      <td>0.9109</td>\n",
       "    </tr>\n",
       "  </tbody>\n",
       "</table>\n",
       "</div>"
      ],
      "text/plain": [
       "                           Mean Absolute Error  Mean Squared Error  \\\n",
       "Model                                                                \n",
       "KNeighborsRegressor                 47054.7038        7.419576e+09   \n",
       "SVR                                176225.4275        5.517308e+10   \n",
       "LinearRegression                   136993.5675        3.507853e+10   \n",
       "Lasso                              136993.1846        3.507847e+10   \n",
       "Ridge                              137002.8494        3.508339e+10   \n",
       "ElasticNet                         175703.5602        5.128227e+10   \n",
       "DecisionTreeRegressor               14845.3277        2.885387e+09   \n",
       "RandomForestRegressor               18364.5754        2.493327e+09   \n",
       "AdaBoostRegressor                  151802.4696        3.261868e+10   \n",
       "GradientBoostingRegressor           67729.0097        9.915740e+09   \n",
       "XGBRegressor                        24401.2314        2.419185e+09   \n",
       "\n",
       "                           Root Mean Squared Error    R2 Score  \\\n",
       "Model                                                            \n",
       "KNeighborsRegressor                     86136.9635        0.83   \n",
       "SVR                                    234889.5114 -4161205.58   \n",
       "LinearRegression                       187292.6362       -0.88   \n",
       "Lasso                                  187292.4794       -0.88   \n",
       "Ridge                                  187305.6057       -0.91   \n",
       "ElasticNet                             226455.8802     -456.96   \n",
       "DecisionTreeRegressor                   53715.7964        0.95   \n",
       "RandomForestRegressor                   49933.2272        0.95   \n",
       "AdaBoostRegressor                      180606.4183       -1.04   \n",
       "GradientBoostingRegressor               99577.8074        0.72   \n",
       "XGBRegressor                            49185.2102        0.95   \n",
       "\n",
       "                           Mean of Cross validaton Score  \n",
       "Model                                                     \n",
       "KNeighborsRegressor                               0.8156  \n",
       "SVR                                              -0.0537  \n",
       "LinearRegression                                  0.3226  \n",
       "Lasso                                             0.3226  \n",
       "Ridge                                             0.3228  \n",
       "ElasticNet                                        0.0239  \n",
       "DecisionTreeRegressor                             0.8743  \n",
       "RandomForestRegressor                             0.9108  \n",
       "AdaBoostRegressor                                 0.3700  \n",
       "GradientBoostingRegressor                         0.7962  \n",
       "XGBRegressor                                      0.9109  "
      ]
     },
     "execution_count": 81,
     "metadata": {},
     "output_type": "execute_result"
    }
   ],
   "source": [
    "createmodels(models,x,y,names)"
   ]
  },
  {
   "cell_type": "markdown",
   "metadata": {},
   "source": [
    "We apply Hperparameter tuning on Random Forest and xtreme Gradient Boost as they are giving the best performance for our dataset"
   ]
  },
  {
   "cell_type": "markdown",
   "metadata": {},
   "source": [
    "## Hyperparameter Tuning"
   ]
  },
  {
   "cell_type": "code",
   "execution_count": 82,
   "metadata": {},
   "outputs": [],
   "source": [
    "xtrain,xtest,ytrain,ytest=train_test_split(x,y,test_size=0.25,random_state=12)"
   ]
  },
  {
   "cell_type": "markdown",
   "metadata": {},
   "source": [
    "### Random Forest"
   ]
  },
  {
   "cell_type": "code",
   "execution_count": 83,
   "metadata": {},
   "outputs": [],
   "source": [
    "from sklearn.model_selection import RandomizedSearchCV"
   ]
  },
  {
   "cell_type": "code",
   "execution_count": 84,
   "metadata": {},
   "outputs": [
    {
     "data": {
      "text/plain": [
       "RandomizedSearchCV(cv=10, estimator=RandomForestRegressor(),\n",
       "                   param_distributions={'max_depth': [None, 1, 2, 3, 4, 5, 6, 7,\n",
       "                                                      8],\n",
       "                                        'min_samples_leaf': [1, 2, 3, 4],\n",
       "                                        'min_samples_split': [1, 2, 3, 4],\n",
       "                                        'n_estimators': [100, 300, 500, 700]})"
      ]
     },
     "execution_count": 84,
     "metadata": {},
     "output_type": "execute_result"
    }
   ],
   "source": [
    "params={'n_estimators':[100, 300, 500, 700],\n",
    "        'min_samples_split':[1,2,3,4],\n",
    "        'min_samples_leaf':[1,2,3,4],\n",
    "        'max_depth':[None,1,2,3,4,5,6,7,8]}\n",
    "\n",
    "g=RandomizedSearchCV(RandomForestRegressor(),params,cv=10)\n",
    "\n",
    "g.fit(xtrain,ytrain)"
   ]
  },
  {
   "cell_type": "code",
   "execution_count": 85,
   "metadata": {},
   "outputs": [
    {
     "name": "stdout",
     "output_type": "stream",
     "text": [
      "RandomForestRegressor(max_depth=7, n_estimators=500)\n",
      "{'n_estimators': 500, 'min_samples_split': 2, 'min_samples_leaf': 1, 'max_depth': 7}\n",
      "0.8021445929768415\n"
     ]
    }
   ],
   "source": [
    "print(g.best_estimator_)\n",
    "print(g.best_params_)\n",
    "print(g.best_score_)"
   ]
  },
  {
   "cell_type": "code",
   "execution_count": 86,
   "metadata": {},
   "outputs": [],
   "source": [
    "m=RandomForestRegressor(max_depth=7, min_samples_leaf=1, min_samples_split=2,n_estimators=500)\n",
    "m.fit(xtrain,ytrain)\n",
    "p=m.predict(xtest)\n",
    "score=cross_val_score(m,x,y,cv=10)"
   ]
  },
  {
   "cell_type": "code",
   "execution_count": 87,
   "metadata": {},
   "outputs": [
    {
     "name": "stdout",
     "output_type": "stream",
     "text": [
      "Mean Absolute Error is 68703.8115\n",
      "Mean Squared Error is 9803856992.1754\n",
      "Root Mean Squared Error is 99014.4282\n",
      "R2 Score is 72.76\n",
      "Mean of cross validaton Score is 77.1946\n"
     ]
    }
   ],
   "source": [
    "print('Mean Absolute Error is',np.round(mean_absolute_error(p,ytest),4))\n",
    "print('Mean Squared Error is',np.round(mean_squared_error(p,ytest),4))\n",
    "print('Root Mean Squared Error is',np.round(np.sqrt(mean_squared_error(p,ytest)),4))\n",
    "print('R2 Score is',np.round(r2_score(p,ytest),4)*100)\n",
    "print('Mean of cross validaton Score is',np.round(np.mean(score)*100,4))"
   ]
  },
  {
   "cell_type": "markdown",
   "metadata": {},
   "source": [
    "### Xtreme Gradient Boost"
   ]
  },
  {
   "cell_type": "code",
   "execution_count": 88,
   "metadata": {},
   "outputs": [
    {
     "data": {
      "text/plain": [
       "RandomizedSearchCV(cv=10,\n",
       "                   estimator=XGBRegressor(base_score=None, booster=None,\n",
       "                                          colsample_bylevel=None,\n",
       "                                          colsample_bynode=None,\n",
       "                                          colsample_bytree=None, gamma=None,\n",
       "                                          gpu_id=None, importance_type='gain',\n",
       "                                          interaction_constraints=None,\n",
       "                                          learning_rate=None,\n",
       "                                          max_delta_step=None, max_depth=None,\n",
       "                                          min_child_weight=None, missing=nan,\n",
       "                                          monotone_constraints=None,\n",
       "                                          n_estimators=100,...one,\n",
       "                                          num_parallel_tree=None,\n",
       "                                          random_state=None, reg_alpha=None,\n",
       "                                          reg_lambda=None,\n",
       "                                          scale_pos_weight=None, subsample=None,\n",
       "                                          tree_method=None,\n",
       "                                          validate_parameters=None,\n",
       "                                          verbosity=0),\n",
       "                   param_distributions={'colsample_bytree': [0.3, 0.4, 0.5,\n",
       "                                                             0.7],\n",
       "                                        'gamma': [0.0, 0.1, 0.2, 0.3, 0.4],\n",
       "                                        'learning_rate': [0.001, 0.05, 0.1],\n",
       "                                        'max_depth': [4, 5, 6, 8, 10, 12, 15],\n",
       "                                        'min_child_weight': [1, 3, 5, 7]})"
      ]
     },
     "execution_count": 88,
     "metadata": {},
     "output_type": "execute_result"
    }
   ],
   "source": [
    "params={\n",
    " \"learning_rate\"    : [0.001,0.05, 0.10, ] ,\n",
    " \"max_depth\"        : [ 4, 5, 6, 8, 10, 12, 15],\n",
    " \"min_child_weight\" : [ 1, 3, 5, 7 ],\n",
    " \"gamma\"            : [ 0.0, 0.1, 0.2 , 0.3, 0.4 ],\n",
    " \"colsample_bytree\" : [ 0.3, 0.4, 0.5 , 0.7 ]\n",
    "    }\n",
    "\n",
    "g=RandomizedSearchCV(XGBRegressor(verbosity=0),params,cv=10)\n",
    "\n",
    "g.fit(xtrain,ytrain)"
   ]
  },
  {
   "cell_type": "code",
   "execution_count": 89,
   "metadata": {},
   "outputs": [
    {
     "name": "stdout",
     "output_type": "stream",
     "text": [
      "XGBRegressor(base_score=0.5, booster='gbtree', colsample_bylevel=1,\n",
      "             colsample_bynode=1, colsample_bytree=0.7, gamma=0.0, gpu_id=-1,\n",
      "             importance_type='gain', interaction_constraints='',\n",
      "             learning_rate=0.05, max_delta_step=0, max_depth=12,\n",
      "             min_child_weight=7, missing=nan, monotone_constraints='()',\n",
      "             n_estimators=100, n_jobs=4, num_parallel_tree=1, random_state=0,\n",
      "             reg_alpha=0, reg_lambda=1, scale_pos_weight=1, subsample=1,\n",
      "             tree_method='exact', validate_parameters=1, verbosity=0)\n",
      "{'min_child_weight': 7, 'max_depth': 12, 'learning_rate': 0.05, 'gamma': 0.0, 'colsample_bytree': 0.7}\n",
      "0.9274233031672431\n"
     ]
    }
   ],
   "source": [
    "print(g.best_estimator_)\n",
    "print(g.best_params_)\n",
    "print(g.best_score_)"
   ]
  },
  {
   "cell_type": "code",
   "execution_count": 90,
   "metadata": {},
   "outputs": [],
   "source": [
    "m=XGBRegressor(colsample_bytree=0.7,gamma=0.0,learning_rate=0.05,max_depth=12,min_child_weight=7)\n",
    "m.fit(xtrain,ytrain)\n",
    "p=m.predict(xtest)\n",
    "score=cross_val_score(m,x,y,cv=10)"
   ]
  },
  {
   "cell_type": "code",
   "execution_count": 91,
   "metadata": {},
   "outputs": [
    {
     "name": "stdout",
     "output_type": "stream",
     "text": [
      "Mean Absolute Error is 33457.5115\n",
      "Mean Squared Error is 3510077058.4174\n",
      "Root Mean Squared Error is 59245.9033\n",
      "R2 Score is 91.97999999999999\n",
      "Mean of cross validaton Score is 91.1656\n"
     ]
    }
   ],
   "source": [
    "print('Mean Absolute Error is',np.round(mean_absolute_error(p,ytest),4))\n",
    "print('Mean Squared Error is',np.round(mean_squared_error(p,ytest),4))\n",
    "print('Root Mean Squared Error is',np.round(np.sqrt(mean_squared_error(p,ytest)),4))\n",
    "print('R2 Score is',np.round(r2_score(p,ytest),4)*100)\n",
    "print('Mean of cross validaton Score is',np.round(np.mean(score)*100,4))"
   ]
  },
  {
   "cell_type": "markdown",
   "metadata": {},
   "source": [
    "# Finalizing the Model"
   ]
  },
  {
   "cell_type": "code",
   "execution_count": 92,
   "metadata": {},
   "outputs": [],
   "source": [
    "model=XGBRegressor()\n",
    "model.fit(xtrain,ytrain)\n",
    "p=model.predict(xtest)\n",
    "score=cross_val_score(m,x,y,cv=10)"
   ]
  },
  {
   "cell_type": "markdown",
   "metadata": {},
   "source": [
    "### Evaluation Metrics"
   ]
  },
  {
   "cell_type": "code",
   "execution_count": 93,
   "metadata": {},
   "outputs": [
    {
     "name": "stdout",
     "output_type": "stream",
     "text": [
      "Mean Absolute Error is 24401.2314\n",
      "Mean Squared Error is 2419184899.113\n",
      "Root Mean Squared Error is 49185.2102\n",
      "R2 Score is 95.09\n",
      "Mean of cross validaton Score is 91.1656\n"
     ]
    }
   ],
   "source": [
    "print('Mean Absolute Error is',np.round(mean_absolute_error(p,ytest),4))\n",
    "print('Mean Squared Error is',np.round(mean_squared_error(p,ytest),4))\n",
    "print('Root Mean Squared Error is',np.round(np.sqrt(mean_squared_error(p,ytest)),4))\n",
    "print('R2 Score is',np.round(r2_score(p,ytest),4)*100)\n",
    "print('Mean of cross validaton Score is',np.round(np.mean(score)*100,4))"
   ]
  },
  {
   "cell_type": "code",
   "execution_count": 94,
   "metadata": {},
   "outputs": [
    {
     "data": {
      "text/plain": [
       "Text(0.5, 1.0, 'XGBRegressor')"
      ]
     },
     "execution_count": 94,
     "metadata": {},
     "output_type": "execute_result"
    },
    {
     "data": {
      "image/png": "[encoded data removed]",
      "text/plain": [
       "<Figure size 432x288 with 1 Axes>"
      ]
     },
     "metadata": {
      "needs_background": "light"
     },
     "output_type": "display_data"
    }
   ],
   "source": [
    "plt.scatter(x=ytest,y=p,color='g')\n",
    "plt.plot(ytest,ytest,color='k')\n",
    "plt.xlabel('Actual Car Price')\n",
    "plt.ylabel('Predicted Car Price')\n",
    "plt.title('XGBRegressor')"
   ]
  },
  {
   "cell_type": "markdown",
   "metadata": {},
   "source": [
    "# Saving the Model"
   ]
  },
  {
   "cell_type": "code",
   "execution_count": 95,
   "metadata": {},
   "outputs": [
    {
     "data": {
      "text/plain": [
       "['car_price_prediction_model.obj']"
      ]
     },
     "execution_count": 95,
     "metadata": {},
     "output_type": "execute_result"
    }
   ],
   "source": [
    "import joblib\n",
    "joblib.dump(model,'car_price_prediction_model.obj')"
   ]
  },
  {
   "cell_type": "code",
   "execution_count": null,
   "metadata": {},
   "outputs": [],
   "source": []
  }
 ],
 "metadata": {
  "kernelspec": {
   "display_name": "Python 3",
   "language": "python",
   "name": "python3"
  },
  "language_info": {
   "codemirror_mode": {
    "name": "ipython",
    "version": 3
   },
   "file_extension": ".py",
   "mimetype": "text/x-python",
   "name": "python",
   "nbconvert_exporter": "python",
   "pygments_lexer": "ipython3",
   "version": "3.8.5"
  }
 },
 "nbformat": 4,
 "nbformat_minor": 5
}
