{
 "cells": [
  {
   "cell_type": "code",
   "execution_count": 12,
   "metadata": {},
   "outputs": [],
   "source": [
    "import selenium \n",
    "import pandas as pd\n",
    "from selenium import webdriver\n",
    "import time\n",
    "import requests\n",
    "import undetected_chromedriver as uc"
   ]
  },
  {
   "cell_type": "code",
   "execution_count": 13,
   "metadata": {},
   "outputs": [],
   "source": [
    "# connect to webdriver\n",
    "options = webdriver.ChromeOptions()\n",
    "options.add_argument(\"start-maximized\")\n",
    "driver = uc.Chrome(executable_path='chromedriver.exe', options=options)"
   ]
  },
  {
   "cell_type": "code",
   "execution_count": 14,
   "metadata": {},
   "outputs": [],
   "source": [
    "driver.maximize_window()"
   ]
  },
  {
   "cell_type": "code",
   "execution_count": 15,
   "metadata": {},
   "outputs": [],
   "source": [
    "brand=[]\n",
    "year=[]\n",
    "km_driven=[]\n",
    "fuel=[]\n",
    "model=[]\n",
    "price=[]"
   ]
  },
  {
   "cell_type": "code",
   "execution_count": 16,
   "metadata": {},
   "outputs": [],
   "source": [
    "def get_details(city_name):\n",
    "    driver.get(\"https://www.cars24.com/buy-used-cars-\" + city_name + \"/\")\n",
    "   \n",
    "    SCROLL_PAUSE_TIME = 20\n",
    "\n",
    "    # Get scroll height\n",
    "    last_height = driver.execute_script(\"return document.body.scrollHeight\")\n",
    "\n",
    "    while True:\n",
    "        # Scroll down to bottom\n",
    "        driver.execute_script(\"window.scrollTo(0, document.body.scrollHeight);\")\n",
    "\n",
    "        # Wait to load page\n",
    "        time.sleep(SCROLL_PAUSE_TIME)\n",
    "\n",
    "        # Calculate new scroll height and compare with last scroll height\n",
    "        new_height = driver.execute_script(\"return document.body.scrollHeight\")\n",
    "        if new_height == last_height:\n",
    "            break\n",
    "        last_height = new_height\n",
    "\n",
    "    Brand=driver.find_elements_by_xpath(\"//div[@class='_1l4fi']/div[1]/div/h2\")\n",
    "    for j in Brand:\n",
    "        brand.append(j.text.split()[1])\n",
    "        model.append(j.text.split()[2])\n",
    "        year.append(j.text.split()[0])\n",
    "\n",
    "    KM_driven=driver.find_elements_by_xpath(\"//ul[@class='bVR0c']/li[1]\")\n",
    "    for m in KM_driven:\n",
    "        km_driven.append(m.text)\n",
    "\n",
    "    Fuel=driver.find_elements_by_xpath(\"//ul[@class='bVR0c']/li[3]\")\n",
    "    for m in Fuel:\n",
    "        fuel.append(m.text)\n",
    "\n",
    "    Price=driver.find_elements_by_xpath(\"//div[@class='_19zc5']/div[2]/span\")\n",
    "    for q in Price:\n",
    "        price.append(q.text)\n",
    "\n"
   ]
  },
  {
   "cell_type": "code",
   "execution_count": 17,
   "metadata": {},
   "outputs": [
    {
     "name": "stderr",
     "output_type": "stream",
     "text": [
      "C:\\Users\\jameel\\anaconda3\\lib\\site-packages\\selenium\\webdriver\\remote\\webdriver.py:502: UserWarning: find_elements_by_* commands are deprecated. Please use find_elements() instead\n",
      "  warnings.warn(\"find_elements_by_* commands are deprecated. Please use find_elements() instead\")\n"
     ]
    }
   ],
   "source": [
    "city_list=['new-delhi','noida','gurgaon','mumbai','pune','bengaluru','hyderabad','chennai','kolkata','Ahmedabad',\n",
    "          'Chandigarh','jaipur','jamshedpur','nagpur','patna','nasik','kochi','lucknow','bhopal','ludhiana',\n",
    "          'surat','vadodara','rajkot']\n",
    "for city in city_list:\n",
    "    get_details(city)"
   ]
  },
  {
   "cell_type": "code",
   "execution_count": 18,
   "metadata": {},
   "outputs": [],
   "source": [
    "car24_df=pd.DataFrame({\"Brand\":brand,\"Model\":model,\"Year\":year,\"Fuel\":fuel,\"KM driven\":km_driven,\"Price\":price})"
   ]
  },
  {
   "cell_type": "code",
   "execution_count": 19,
   "metadata": {},
   "outputs": [
    {
     "data": {
      "text/plain": [
       "5156"
      ]
     },
     "execution_count": 19,
     "metadata": {},
     "output_type": "execute_result"
    }
   ],
   "source": [
    "len(car24_df)"
   ]
  },
  {
   "cell_type": "code",
   "execution_count": 20,
   "metadata": {},
   "outputs": [
    {
     "name": "stdout",
     "output_type": "stream",
     "text": [
      "<class 'pandas.core.frame.DataFrame'>\n",
      "RangeIndex: 5156 entries, 0 to 5155\n",
      "Data columns (total 6 columns):\n",
      " #   Column     Non-Null Count  Dtype \n",
      "---  ------     --------------  ----- \n",
      " 0   Brand      5156 non-null   object\n",
      " 1   Model      5156 non-null   object\n",
      " 2   Year       5156 non-null   object\n",
      " 3   Fuel       5156 non-null   object\n",
      " 4   KM driven  5156 non-null   object\n",
      " 5   Price      5156 non-null   object\n",
      "dtypes: object(6)\n",
      "memory usage: 241.8+ KB\n"
     ]
    }
   ],
   "source": [
    "car24_df.info()"
   ]
  },
  {
   "cell_type": "code",
   "execution_count": 21,
   "metadata": {},
   "outputs": [
    {
     "data": {
      "text/html": [
       "<div>\n",
       "<style scoped>\n",
       "    .dataframe tbody tr th:only-of-type {\n",
       "        vertical-align: middle;\n",
       "    }\n",
       "\n",
       "    .dataframe tbody tr th {\n",
       "        vertical-align: top;\n",
       "    }\n",
       "\n",
       "    .dataframe thead th {\n",
       "        text-align: right;\n",
       "    }\n",
       "</style>\n",
       "<table border=\"1\" class=\"dataframe\">\n",
       "  <thead>\n",
       "    <tr style=\"text-align: right;\">\n",
       "      <th></th>\n",
       "      <th>Brand</th>\n",
       "      <th>Model</th>\n",
       "      <th>Year</th>\n",
       "      <th>Fuel</th>\n",
       "      <th>KM driven</th>\n",
       "      <th>Price</th>\n",
       "    </tr>\n",
       "  </thead>\n",
       "  <tbody>\n",
       "    <tr>\n",
       "      <th>0</th>\n",
       "      <td>KIA</td>\n",
       "      <td>SELTOS</td>\n",
       "      <td>2020</td>\n",
       "      <td>Petrol</td>\n",
       "      <td>5,822 km</td>\n",
       "      <td>₹11,33,599</td>\n",
       "    </tr>\n",
       "    <tr>\n",
       "      <th>1</th>\n",
       "      <td>Maruti</td>\n",
       "      <td>Swift</td>\n",
       "      <td>2012</td>\n",
       "      <td>Diesel</td>\n",
       "      <td>1,18,117 km</td>\n",
       "      <td>₹3,43,199</td>\n",
       "    </tr>\n",
       "    <tr>\n",
       "      <th>2</th>\n",
       "      <td>Hyundai</td>\n",
       "      <td>Verna</td>\n",
       "      <td>2013</td>\n",
       "      <td>Diesel</td>\n",
       "      <td>53,517 km</td>\n",
       "      <td>₹4,82,299</td>\n",
       "    </tr>\n",
       "    <tr>\n",
       "      <th>3</th>\n",
       "      <td>Maruti</td>\n",
       "      <td>Swift</td>\n",
       "      <td>2013</td>\n",
       "      <td>Diesel</td>\n",
       "      <td>49,944 km</td>\n",
       "      <td>₹3,54,299</td>\n",
       "    </tr>\n",
       "    <tr>\n",
       "      <th>4</th>\n",
       "      <td>Maruti</td>\n",
       "      <td>Swift</td>\n",
       "      <td>2016</td>\n",
       "      <td>Diesel</td>\n",
       "      <td>1,06,080 km</td>\n",
       "      <td>₹4,49,299</td>\n",
       "    </tr>\n",
       "    <tr>\n",
       "      <th>...</th>\n",
       "      <td>...</td>\n",
       "      <td>...</td>\n",
       "      <td>...</td>\n",
       "      <td>...</td>\n",
       "      <td>...</td>\n",
       "      <td>...</td>\n",
       "    </tr>\n",
       "    <tr>\n",
       "      <th>5151</th>\n",
       "      <td>Maruti</td>\n",
       "      <td>Alto</td>\n",
       "      <td>2020</td>\n",
       "      <td>Petrol</td>\n",
       "      <td>4,179 km</td>\n",
       "      <td>₹3,30,799</td>\n",
       "    </tr>\n",
       "    <tr>\n",
       "      <th>5152</th>\n",
       "      <td>Maruti</td>\n",
       "      <td>Alto</td>\n",
       "      <td>2020</td>\n",
       "      <td>Petrol</td>\n",
       "      <td>38,222 km</td>\n",
       "      <td>₹3,61,899</td>\n",
       "    </tr>\n",
       "    <tr>\n",
       "      <th>5153</th>\n",
       "      <td>Maruti</td>\n",
       "      <td>Alto</td>\n",
       "      <td>2018</td>\n",
       "      <td>Petrol</td>\n",
       "      <td>24,853 km</td>\n",
       "      <td>₹2,96,799</td>\n",
       "    </tr>\n",
       "    <tr>\n",
       "      <th>5154</th>\n",
       "      <td>Maruti</td>\n",
       "      <td>Alto</td>\n",
       "      <td>2018</td>\n",
       "      <td>Petrol</td>\n",
       "      <td>50,463 km</td>\n",
       "      <td>₹3,32,599</td>\n",
       "    </tr>\n",
       "    <tr>\n",
       "      <th>5155</th>\n",
       "      <td>Maruti</td>\n",
       "      <td>Celerio</td>\n",
       "      <td>2018</td>\n",
       "      <td>Petrol</td>\n",
       "      <td>41,352 km</td>\n",
       "      <td>₹4,40,199</td>\n",
       "    </tr>\n",
       "  </tbody>\n",
       "</table>\n",
       "<p>5156 rows × 6 columns</p>\n",
       "</div>"
      ],
      "text/plain": [
       "        Brand    Model  Year    Fuel    KM driven       Price\n",
       "0         KIA   SELTOS  2020  Petrol     5,822 km  ₹11,33,599\n",
       "1      Maruti    Swift  2012  Diesel  1,18,117 km   ₹3,43,199\n",
       "2     Hyundai    Verna  2013  Diesel    53,517 km   ₹4,82,299\n",
       "3      Maruti    Swift  2013  Diesel    49,944 km   ₹3,54,299\n",
       "4      Maruti    Swift  2016  Diesel  1,06,080 km   ₹4,49,299\n",
       "...       ...      ...   ...     ...          ...         ...\n",
       "5151   Maruti     Alto  2020  Petrol     4,179 km   ₹3,30,799\n",
       "5152   Maruti     Alto  2020  Petrol    38,222 km   ₹3,61,899\n",
       "5153   Maruti     Alto  2018  Petrol    24,853 km   ₹2,96,799\n",
       "5154   Maruti     Alto  2018  Petrol    50,463 km   ₹3,32,599\n",
       "5155   Maruti  Celerio  2018  Petrol    41,352 km   ₹4,40,199\n",
       "\n",
       "[5156 rows x 6 columns]"
      ]
     },
     "execution_count": 21,
     "metadata": {},
     "output_type": "execute_result"
    }
   ],
   "source": [
    "car24_df"
   ]
  },
  {
   "cell_type": "code",
   "execution_count": 22,
   "metadata": {},
   "outputs": [],
   "source": [
    "car24_df.to_csv(\"car_price.csv\")"
   ]
  },
  {
   "cell_type": "code",
   "execution_count": null,
   "metadata": {},
   "outputs": [],
   "source": []
  }
 ],
 "metadata": {
  "kernelspec": {
   "display_name": "Python 3",
   "language": "python",
   "name": "python3"
  },
  "language_info": {
   "codemirror_mode": {
    "name": "ipython",
    "version": 3
   },
   "file_extension": ".py",
   "mimetype": "text/x-python",
   "name": "python",
   "nbconvert_exporter": "python",
   "pygments_lexer": "ipython3",
   "version": "3.8.5"
  }
 },
 "nbformat": 4,
 "nbformat_minor": 5
}
